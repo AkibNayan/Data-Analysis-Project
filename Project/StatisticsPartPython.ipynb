{
 "cells": [
  {
   "cell_type": "code",
   "execution_count": 24,
   "id": "9c9a1fb0",
   "metadata": {},
   "outputs": [
    {
     "data": {
      "image/png": "[encoded data removed]",
      "text/plain": [
       "<Figure size 640x480 with 1 Axes>"
      ]
     },
     "metadata": {},
     "output_type": "display_data"
    }
   ],
   "source": [
    "import matplotlib.pyplot as plt\n",
    "from collections import Counter\n",
    "my_friends = [100, 49, 41, 40, 25, 49]\n",
    "friend_counts = Counter(my_friends)\n",
    "#print(friend_counts)\n",
    "xs = range(101)\n",
    "#xs\n",
    "ys = [friend_counts[x] for x in xs]\n",
    "#ys\n",
    "plt.bar(xs, ys)\n",
    "plt.axis([0, 101, 0,25])\n",
    "plt.title(\"Histogram of Friend Counts\")\n",
    "plt.xlabel(\"# of friends\")\n",
    "plt.ylabel(\"# of people\")\n",
    "plt.show()"
   ]
  },
  {
   "cell_type": "code",
   "execution_count": 33,
   "id": "14c48567",
   "metadata": {},
   "outputs": [
    {
     "name": "stdout",
     "output_type": "stream",
     "text": [
      "100\n",
      "25\n"
     ]
    }
   ],
   "source": [
    "num_points = len(my_friends)\n",
    "#num_points\n",
    "largest_value = max(my_friends)\n",
    "smallest_value = min(my_friends)\n",
    "print(largest_value) \n",
    "print(smallest_value)"
   ]
  },
  {
   "cell_type": "code",
   "execution_count": 45,
   "id": "ce9aa766",
   "metadata": {},
   "outputs": [],
   "source": [
    "sorted_values = sorted(my_friends)\n",
    "#sorted_values\n",
    "smallest_value = sorted_values[0]\n",
    "#smallest_value\n",
    "second_smallest_value = sorted_values[1]\n",
    "#second_smallest_value\n",
    "largest_value = sorted_values[-1]\n",
    "#largest_value\n",
    "second_largest_value = sorted_values[-2]\n",
    "#second_largest_value"
   ]
  },
  {
   "cell_type": "code",
   "execution_count": 1,
   "id": "5eed690f",
   "metadata": {},
   "outputs": [
    {
     "data": {
      "text/plain": [
       "100"
      ]
     },
     "execution_count": 1,
     "metadata": {},
     "output_type": "execute_result"
    }
   ],
   "source": [
    "my_friends = [100, 49, 41, 40, 25, 49]\n",
    "def quantile(x, p):\n",
    "    p_index = int(p * len(x))\n",
    "    return sorted(x)[p_index]\n",
    "#quantile(my_friends, 0.10)\n",
    "#quantile(my_friends, 0.25)\n",
    "#quantile(my_friends, 0.75)\n",
    "quantile(my_friends, 0.90)"
   ]
  },
  {
   "cell_type": "code",
   "execution_count": 2,
   "id": "d1931ad4",
   "metadata": {},
   "outputs": [
    {
     "data": {
      "text/plain": [
       "[49]"
      ]
     },
     "execution_count": 2,
     "metadata": {},
     "output_type": "execute_result"
    }
   ],
   "source": [
    "from collections import Counter\n",
    "my_friends = [100, 49, 41, 40, 25, 49]\n",
    "def mode(x):\n",
    "    counts = Counter(x)\n",
    "    #print(count)\n",
    "    max_count = max(counts.values())\n",
    "    #print(max_count)\n",
    "    return [x_i for x_i, count in counts.items()\n",
    "           if count == max_count]\n",
    "mode(my_friends)"
   ]
  },
  {
   "cell_type": "code",
   "execution_count": 3,
   "id": "4e9c3d23",
   "metadata": {},
   "outputs": [
    {
     "data": {
      "text/plain": [
       "75"
      ]
     },
     "execution_count": 3,
     "metadata": {},
     "output_type": "execute_result"
    }
   ],
   "source": [
    "#Dispersion\n",
    "my_friends = [100, 49, 41, 40, 25, 49]\n",
    "def data_range(x):\n",
    "    #print(max(x))\n",
    "    #print(min(x))\n",
    "    return max(x) - min(x)\n",
    "data_range(my_friends)"
   ]
  },
  {
   "cell_type": "code",
   "execution_count": 4,
   "id": "0e39faf3",
   "metadata": {},
   "outputs": [
    {
     "data": {
      "text/plain": [
       "58.33333333333333"
      ]
     },
     "execution_count": 4,
     "metadata": {},
     "output_type": "execute_result"
    }
   ],
   "source": [
    "#Variance is a measure of dispersion\n",
    "from statistics import mean\n",
    "my_friends = [20, 10, 5]\n",
    "def sum_of_squares(x):\n",
    "    sum = 0\n",
    "    for i in x:\n",
    "        sum = sum + (i*i)\n",
    "    return sum\n",
    "def de_mean(x):\n",
    "    x_bar = mean(x)\n",
    "    #print(x_bar)\n",
    "    return [x_i - x_bar for x_i in x]\n",
    "def variance(x):\n",
    "    n = len(x)\n",
    "    deviations = de_mean(x)\n",
    "    return sum_of_squares(deviations) / (n-1)\n",
    "variance(my_friends)"
   ]
  },
  {
   "cell_type": "code",
   "execution_count": 5,
   "id": "59d5173d",
   "metadata": {},
   "outputs": [
    {
     "data": {
      "text/plain": [
       "7.637626158259733"
      ]
     },
     "execution_count": 5,
     "metadata": {},
     "output_type": "execute_result"
    }
   ],
   "source": [
    "#Standard Deviation\n",
    "from math import sqrt\n",
    "def standard_deviation(x):\n",
    "    return sqrt(variance(x))\n",
    "standard_deviation(my_friends)"
   ]
  },
  {
   "cell_type": "code",
   "execution_count": 8,
   "id": "58979fd4",
   "metadata": {},
   "outputs": [
    {
     "data": {
      "text/plain": [
       "-206.66666666666666"
      ]
     },
     "execution_count": 8,
     "metadata": {},
     "output_type": "execute_result"
    }
   ],
   "source": [
    "#Covariance measures how two variables vary in tandem from their mean\n",
    "import numpy\n",
    "my_friends = [100, 49, 41, 40, 25, 49]\n",
    "daily_minutes = [70, 170, 40, 65, 120, 26]\n",
    "def covariance(x, y):\n",
    "    n = len(x)\n",
    "    return numpy.dot(de_mean(x), de_mean(y)) / (n-1)\n",
    "covariance(my_friends, daily_minutes)"
   ]
  },
  {
   "cell_type": "code",
   "execution_count": 9,
   "id": "3a1f475a",
   "metadata": {},
   "outputs": [
    {
     "data": {
      "text/plain": [
       "-0.14915473233097842"
      ]
     },
     "execution_count": 9,
     "metadata": {},
     "output_type": "execute_result"
    }
   ],
   "source": [
    "#correlation\n",
    "def correlation(x, y):\n",
    "    stdev_x = standard_deviation(x)\n",
    "    stdev_y = standard_deviation(y)\n",
    "    if (stdev_x > 0 and stdev_y >0):\n",
    "        return covariance(x, y) / stdev_x / stdev_y\n",
    "    else:\n",
    "        return 0\n",
    "correlation(my_friends, daily_minutes)"
   ]
  },
  {
   "cell_type": "code",
   "execution_count": 20,
   "id": "0924001b",
   "metadata": {
    "scrolled": true
   },
   "outputs": [
    {
     "data": {
      "text/plain": [
       "-0.1416111564267981"
      ]
     },
     "execution_count": 20,
     "metadata": {},
     "output_type": "execute_result"
    }
   ],
   "source": [
    "outlier = my_friends.index(100)\n",
    "#print(outlier)\n",
    "list = []\n",
    "my_friends_good = [x for i, x in enumerate(my_friends)\n",
    "                  if i != outlier]\n",
    "daily_minutes_good = [x for i, x in enumerate(daily_minutes)\n",
    "                     if i != outlier]\n",
    "correlation(my_friends_good, daily_minutes_good)"
   ]
  },
  {
   "cell_type": "code",
   "execution_count": 1,
   "id": "a037b03e",
   "metadata": {},
   "outputs": [
    {
     "data": {
      "text/plain": [
       "0.0"
      ]
     },
     "execution_count": 1,
     "metadata": {},
     "output_type": "execute_result"
    }
   ],
   "source": [
    "#Finding Correlation\n",
    "from math import sqrt\n",
    "from statistics import mean \n",
    "import numpy\n",
    "x = [-2, -1, 0, 1, 2]\n",
    "y = [2, 1, 0, 1, 2]\n",
    "\n",
    "def sum_of_squares(x):\n",
    "    sum = 0\n",
    "    for i in x:\n",
    "        sum = sum + (i**2)\n",
    "    return sum \n",
    "\n",
    "def de_mean(x):\n",
    "    x_bar = mean(x)\n",
    "    return [x_i - x_bar for x_i in x]\n",
    "    \n",
    "def variance(x):\n",
    "    n = len(x)\n",
    "    deviation = de_mean(x)\n",
    "    return sum_of_squares(deviation) / (n-1)\n",
    "\n",
    "def covariance(x, y):\n",
    "    n = len(x)\n",
    "    return numpy.dot(de_mean(x), de_mean(y)) / (n-1)\n",
    "    \n",
    "def standard_deviation(x):\n",
    "    return sqrt(variance(x))\n",
    "\n",
    "def correlation(x, y):\n",
    "    stdev_x = standard_deviation(x)\n",
    "    stdev_y = standard_deviation(y)\n",
    "    if (stdev_x > 0 and stdev_y > 0):\n",
    "       return covariance(x, y) / stdev_x / stdev_y\n",
    "    else:\n",
    "        return 0\n",
    "correlation(x, y)"
   ]
  },
  {
   "cell_type": "code",
   "execution_count": 2,
   "id": "09c78fb3",
   "metadata": {},
   "outputs": [
    {
     "data": {
      "text/plain": [
       "1.0"
      ]
     },
     "execution_count": 2,
     "metadata": {},
     "output_type": "execute_result"
    }
   ],
   "source": [
    "#perfect correlation \n",
    "x = [-2, -1, 0, 1, 2]\n",
    "y = [99.98, 99.99, 100, 100.01, 100.02]\n",
    "correlation(x, y)"
   ]
  },
  {
   "cell_type": "code",
   "execution_count": 4,
   "id": "f9ea0e99",
   "metadata": {},
   "outputs": [
    {
     "name": "stdout",
     "output_type": "stream",
     "text": [
      "P(both | older):  0.5007089325501317\n",
      "P(both | either):  0.3311897106109325\n"
     ]
    }
   ],
   "source": [
    "import random\n",
    "def random_kid():\n",
    "    return random.choice([\"boy\", \"girl\"])\n",
    "both_girls = 0\n",
    "older_girl = 0\n",
    "either_girl = 0\n",
    "random.seed(0)\n",
    "for _ in range(10000):\n",
    "    younger = random_kid()\n",
    "    older = random_kid()\n",
    "    if older == \"girl\":\n",
    "        older_girl += 1\n",
    "    if older == 'girl' and younger == 'girl':\n",
    "        both_girls += 1\n",
    "    if older == 'girl' or younger == 'girl':\n",
    "        either_girl += 1\n",
    "print (\"P(both | older): \", both_girls / older_girl)\n",
    "print (\"P(both | either): \", both_girls / either_girl)"
   ]
  },
  {
   "cell_type": "code",
   "execution_count": 1,
   "id": "a443d596",
   "metadata": {},
   "outputs": [
    {
     "data": {
      "text/plain": [
       "1.4867195147342979e-06"
      ]
     },
     "execution_count": 1,
     "metadata": {},
     "output_type": "execute_result"
    }
   ],
   "source": [
    "#Normal Distribution Function\n",
    "import math\n",
    "def normal_pdf(x, mu=0, sigma=1):\n",
    "    sqrt_two_pi = math.sqrt(2 * math.pi)\n",
    "    return (math.exp((-(x-mu)**2) / (2*(sigma**2))) / (sqrt_two_pi * sigma))\n",
    "normal_pdf(5)"
   ]
  },
  {
   "cell_type": "code",
   "execution_count": 2,
   "id": "b1d2bf36",
   "metadata": {},
   "outputs": [
    {
     "data": {
      "image/png": "[encoded data removed]",
      "text/plain": [
       "<Figure size 640x480 with 1 Axes>"
      ]
     },
     "metadata": {},
     "output_type": "display_data"
    }
   ],
   "source": [
    "#Various Normal Probability Density Function\n",
    "import matplotlib.pyplot as plt\n",
    "xs = [x/10.0 for x in range(-50, 50)]\n",
    "plt.plot(xs, [normal_pdf(x, sigma=1) for x in xs], '-', label='mu=0, sigma=1')\n",
    "plt.plot(xs, [normal_pdf(x, sigma=2) for x in xs], '--', label='mu=0, sigma=2')\n",
    "plt.plot(xs, [normal_pdf(x, sigma=0.5) for x in xs], ':', label='mu=0, sigma=0.5')\n",
    "plt.plot(xs, [normal_pdf(x, mu=-1) for x in xs], '-.', label='mu=-1, sigma=1')\n",
    "plt.title(\"Various Normal pdf's\")\n",
    "plt.legend()\n",
    "plt.show()"
   ]
  },
  {
   "cell_type": "code",
   "execution_count": 3,
   "id": "107b6f8b",
   "metadata": {},
   "outputs": [
    {
     "data": {
      "text/plain": [
       "0.9999997133484282"
      ]
     },
     "execution_count": 3,
     "metadata": {},
     "output_type": "execute_result"
    }
   ],
   "source": [
    "#Normal Cumulative Distribution Function\n",
    "def normal_cdf(x, mu=0, sigma=1):\n",
    "    return (1 + math.erf(((x-mu) / math.sqrt(2)) / sigma)) / 2\n",
    "normal_cdf(5)"
   ]
  },
  {
   "cell_type": "code",
   "execution_count": 4,
   "id": "fc93dda7",
   "metadata": {},
   "outputs": [
    {
     "data": {
      "image/png": "[encoded data removed]",
      "text/plain": [
       "<Figure size 640x480 with 1 Axes>"
      ]
     },
     "metadata": {},
     "output_type": "display_data"
    }
   ],
   "source": [
    "#Normal Cumulative Distribution Function Plot\n",
    "import math\n",
    "import matplotlib.pyplot as plt\n",
    "xs = [x/10.0 for x in range(-50, 50)]\n",
    "#print(xs)\n",
    "plt.plot(xs, [normal_cdf(x, sigma=1) for x in xs], '-', label='mu=0, sigma=1')\n",
    "plt.plot(xs, [normal_cdf(x, sigma=2) for x in xs], '--', label='mu=0, sigma=2')\n",
    "plt.plot(xs, [normal_cdf(x, sigma=0.5) for x in xs], ':', label='mu=0, sigma=0.5')\n",
    "plt.plot(xs, [normal_cdf(x, mu=-1) for x in xs], '-.', label='mu=-1, sigma=1')\n",
    "plt.title(\"Various Normal cdfs\")\n",
    "plt.legend()\n",
    "plt.show()"
   ]
  },
  {
   "cell_type": "code",
   "execution_count": 5,
   "id": "8d66f771",
   "metadata": {},
   "outputs": [
    {
     "data": {
      "text/plain": [
       "9.999990463256836"
      ]
     },
     "execution_count": 5,
     "metadata": {},
     "output_type": "execute_result"
    }
   ],
   "source": [
    "#Inverse of Normal cdf\n",
    "def inverse_normal_cdf(p, mu=0, sigma=1, tolerance=0.00001):\n",
    "    if mu != 0 or sigma != 1:\n",
    "        return mu + (sigma * inverse_normal_cdf(p, tolerance=tolerance))\n",
    "    low_z, low_p = -10.0, 0\n",
    "    hi_z, hi_p = 10.0, 1\n",
    "    while (hi_z - low_z) > tolerance:\n",
    "        mid_z = (low_z + hi_z) / 2\n",
    "        mid_p = normal_cdf(mid_z)\n",
    "        if mid_p < p:\n",
    "            low_z, low_p = mid_z, mid_p\n",
    "        elif mid_p > p:\n",
    "            hi_z, hi_p = mid_z, mid_p\n",
    "        else:\n",
    "            break\n",
    "    return mid_z\n",
    "inverse_normal_cdf(5)"
   ]
  },
  {
   "cell_type": "code",
   "execution_count": 6,
   "id": "0d6b1874",
   "metadata": {},
   "outputs": [],
   "source": [
    "#Bernoulli Trial\n",
    "import random\n",
    "import math\n",
    "def bernoulli_trial(p):\n",
    "    return 1 if random.random() < p else 0\n",
    "def binomial(n, p):\n",
    "    return sum(bernoulli_trial(p) for _ in range(n))\n"
   ]
  },
  {
   "cell_type": "code",
   "execution_count": 7,
   "id": "5e6047a4",
   "metadata": {},
   "outputs": [
    {
     "data": {
      "image/png": "[encoded data removed]",
      "text/plain": [
       "<Figure size 640x480 with 1 Axes>"
      ]
     },
     "metadata": {},
     "output_type": "display_data"
    }
   ],
   "source": [
    "import math\n",
    "from collections import Counter\n",
    "import matplotlib.pyplot as plt\n",
    "def make_hist(p, n, num_points):\n",
    "    data = [binomial(n, p)for _ in range(num_points)]\n",
    "    histogram = Counter(data)\n",
    "    plt.bar([x-0.4 for x in histogram.keys()], [v / num_points for v in histogram.values()], 0.8, color='0.75')\n",
    "    mu = p * n\n",
    "    sigma = math.sqrt(n * p * (1-p))\n",
    "    xs = range(min(data), max(data) + 1)\n",
    "    ys = [normal_cdf(i + 0.5, mu, sigma) - normal_cdf(i - 0.5, mu, sigma) for i in xs]\n",
    "    plt.plot(xs, ys)\n",
    "    plt.title(\"Binomial Distribution vs. Normal Approximation\")\n",
    "    plt.show()\n",
    "make_hist(0.75, 100, 10000)"
   ]
  },
  {
   "cell_type": "code",
   "execution_count": 8,
   "id": "222f5621",
   "metadata": {},
   "outputs": [
    {
     "data": {
      "text/plain": [
       "(469.01026640487555, 530.9897335951244)"
      ]
     },
     "execution_count": 8,
     "metadata": {},
     "output_type": "execute_result"
    }
   ],
   "source": [
    "#Hypothesis and Inference\n",
    "def normal_approximation_to_binomial(n, p):\n",
    "    mu = p * n\n",
    "    sigma = math.sqrt(n * p * (1 - p))\n",
    "    return mu, sigma\n",
    "normal_probability_below = normal_cdf\n",
    "#It's above the threshold\n",
    "def normal_probability_above(lo, mu=0, sigma=1):\n",
    "    return 1 - normal_cdf(lo, mu, sigma)\n",
    "#It's between if it's less than hi, not less than lo\n",
    "def normal_probability_between(lo, hi, mu=0, sigma=1):\n",
    "    return normal_cdf(hi, mu, sigma) - normal_cdf(lo, mu, sigma)\n",
    "#It's outside not betweeen\n",
    "def normal_probability_outside(lo, hi, mu, sigma):\n",
    "    return 1 - normal_probability_between(lo, hi, mu, sigma)\n",
    "def normal_upper_bound(probability, mu=0, sigma=1):\n",
    "    return inverse_normal_cdf(probability, mu, sigma)\n",
    "def normal_lower_bound(probability, mu=0, sigma=1):\n",
    "    return inverse_normal_cdf(1-probability, mu, sigma)\n",
    "def normal_two_sided_bounds(probability, mu=0, sigma=1):\n",
    "    tail_probability = (1-probability) / 2\n",
    "    upper_bound = normal_lower_bound(tail_probability, mu, sigma)\n",
    "    lower_bound = normal_upper_bound(tail_probability, mu, sigma)\n",
    "    return lower_bound, upper_bound\n",
    "mu_0, sigma_0 = normal_approximation_to_binomial(1000, 0.5)\n",
    "normal_two_sided_bounds(0.95, mu_0, sigma_0)"
   ]
  },
  {
   "cell_type": "code",
   "execution_count": 9,
   "id": "fa12544c",
   "metadata": {},
   "outputs": [
    {
     "name": "stdout",
     "output_type": "stream",
     "text": [
      "469.01026640487555\n",
      "530.9897335951244\n"
     ]
    }
   ],
   "source": [
    "lo, hi = normal_two_sided_bounds(0.95, mu_0, sigma_0)\n",
    "print(lo)\n",
    "print(hi)"
   ]
  },
  {
   "cell_type": "code",
   "execution_count": 10,
   "id": "519a6ac9",
   "metadata": {},
   "outputs": [
    {
     "name": "stdout",
     "output_type": "stream",
     "text": [
      "550.0\n",
      "15.732132722552272\n"
     ]
    }
   ],
   "source": [
    "mu_1, sigma_1 = normal_approximation_to_binomial(1000, 0.55)\n",
    "print(mu_1)\n",
    "print(sigma_1)"
   ]
  },
  {
   "cell_type": "code",
   "execution_count": 11,
   "id": "0d2e84b2",
   "metadata": {},
   "outputs": [
    {
     "name": "stdout",
     "output_type": "stream",
     "text": [
      "0.11345199870463285\n"
     ]
    }
   ],
   "source": [
    "type_2_probability = normal_probability_between(lo, hi, mu_1, sigma_1)\n",
    "print(type_2_probability)"
   ]
  },
  {
   "cell_type": "code",
   "execution_count": 12,
   "id": "71dcc619",
   "metadata": {},
   "outputs": [
    {
     "name": "stdout",
     "output_type": "stream",
     "text": [
      "0.8865480012953671\n"
     ]
    }
   ],
   "source": [
    "power = 1 - type_2_probability\n",
    "print(power)"
   ]
  },
  {
   "cell_type": "code",
   "execution_count": 13,
   "id": "83031e8e",
   "metadata": {},
   "outputs": [
    {
     "data": {
      "text/plain": [
       "526.0073585242053"
      ]
     },
     "execution_count": 13,
     "metadata": {},
     "output_type": "execute_result"
    }
   ],
   "source": [
    "hi = normal_upper_bound(0.95, mu_0, sigma_0)\n",
    "hi"
   ]
  },
  {
   "cell_type": "code",
   "execution_count": 14,
   "id": "ec209f18",
   "metadata": {},
   "outputs": [
    {
     "name": "stdout",
     "output_type": "stream",
     "text": [
      "0.06362051966928262\n"
     ]
    }
   ],
   "source": [
    "type_2_probability = normal_probability_below(hi, mu_1, sigma_1)\n",
    "print(type_2_probability)"
   ]
  },
  {
   "cell_type": "code",
   "execution_count": 15,
   "id": "1847c96c",
   "metadata": {},
   "outputs": [
    {
     "name": "stdout",
     "output_type": "stream",
     "text": [
      "0.9363794803307174\n"
     ]
    }
   ],
   "source": [
    "power = 1 - type_2_probability\n",
    "print(power)"
   ]
  },
  {
   "cell_type": "code",
   "execution_count": 16,
   "id": "aa83b3c5",
   "metadata": {},
   "outputs": [
    {
     "data": {
      "text/plain": [
       "0.06207721579598835"
      ]
     },
     "execution_count": 16,
     "metadata": {},
     "output_type": "execute_result"
    }
   ],
   "source": [
    "def two_sided_p_value(x, mu=0, sigma=1):\n",
    "    if x >= mu:\n",
    "        return 2 * normal_probability_above(x, mu, sigma)\n",
    "    else:\n",
    "        return 2 * normal_probability_below(x, mu, sigma)\n",
    "two_sided_p_value(529.5, mu_0, sigma_0)"
   ]
  },
  {
   "cell_type": "code",
   "execution_count": 17,
   "id": "b8b56456",
   "metadata": {},
   "outputs": [
    {
     "name": "stdout",
     "output_type": "stream",
     "text": [
      "0.06212\n"
     ]
    }
   ],
   "source": [
    "import random\n",
    "extreme_value_count = 0\n",
    "for _ in range(100000):\n",
    "    num_heads = sum(1 if random.random() < 0.5 else 0 for _ in range(1000))\n",
    "    if num_heads >= 530 or num_heads <= 470:\n",
    "        extreme_value_count += 1\n",
    "print(extreme_value_count / 100000)"
   ]
  },
  {
   "cell_type": "code",
   "execution_count": 18,
   "id": "9879fb5d",
   "metadata": {},
   "outputs": [
    {
     "data": {
      "text/plain": [
       "0.046345287837786575"
      ]
     },
     "execution_count": 18,
     "metadata": {},
     "output_type": "execute_result"
    }
   ],
   "source": [
    "two_sided_p_value(531.5, mu_0, sigma_0)"
   ]
  },
  {
   "cell_type": "code",
   "execution_count": 19,
   "id": "9ecd62c4",
   "metadata": {},
   "outputs": [
    {
     "name": "stdout",
     "output_type": "stream",
     "text": [
      "0.525\n",
      "0.015791611697353755\n"
     ]
    }
   ],
   "source": [
    "p_hat = 525 / 1000\n",
    "mu = p_hat\n",
    "sigma = math.sqrt((p_hat * (1-p_hat)) / 1000)\n",
    "print(mu)\n",
    "print(sigma)"
   ]
  },
  {
   "cell_type": "code",
   "execution_count": 20,
   "id": "67d4953b",
   "metadata": {},
   "outputs": [
    {
     "data": {
      "text/plain": [
       "(0.4940490278129096, 0.5559509721870904)"
      ]
     },
     "execution_count": 20,
     "metadata": {},
     "output_type": "execute_result"
    }
   ],
   "source": [
    "normal_two_sided_bounds(0.95, mu, sigma)"
   ]
  },
  {
   "cell_type": "code",
   "execution_count": 21,
   "id": "6e1b358b",
   "metadata": {},
   "outputs": [
    {
     "name": "stdout",
     "output_type": "stream",
     "text": [
      "0.54 0.015760710643876435\n"
     ]
    }
   ],
   "source": [
    "p_hat = 540 / 1000\n",
    "mu = p_hat\n",
    "sigma = math.sqrt((p_hat * (1-p_hat)) / 1000)\n",
    "print(mu, sigma)"
   ]
  },
  {
   "cell_type": "code",
   "execution_count": 22,
   "id": "9a685447",
   "metadata": {},
   "outputs": [
    {
     "data": {
      "text/plain": [
       "(0.5091095927295919, 0.5708904072704082)"
      ]
     },
     "execution_count": 22,
     "metadata": {},
     "output_type": "execute_result"
    }
   ],
   "source": [
    "normal_two_sided_bounds(0.95, mu, sigma)"
   ]
  },
  {
   "cell_type": "code",
   "execution_count": 25,
   "id": "9410804b",
   "metadata": {},
   "outputs": [
    {
     "name": "stdout",
     "output_type": "stream",
     "text": [
      "46\n"
     ]
    }
   ],
   "source": [
    "#P-Hacking\n",
    "import random\n",
    "def run_experiment():\n",
    "    return [random.random() < 0.5 for _ in range(1000)]\n",
    "def reject_fairness(experiment):\n",
    "    num_heads = len([flip for flip in experiment if flip])\n",
    "    return num_heads < 469 or num_heads > 531\n",
    "random.seed(0)\n",
    "experiments = [run_experiment() for _ in range(1000)]\n",
    "num_rejection = len([experiment for experiment in experiments if reject_fairness(experiment)])\n",
    "print(num_rejection)"
   ]
  },
  {
   "cell_type": "code",
   "execution_count": 1,
   "id": "7ef583fd",
   "metadata": {},
   "outputs": [],
   "source": [
    "#Gradient Descent\n",
    "import math\n",
    "def sum_of_squares(v):\n",
    "    return sum(v_i ** 2 for v_i in v)\n",
    "def difference_quotient(f, x, h):\n",
    "    return (f(x + h) - f(x)) / h\n",
    "def square(x):\n",
    "    return x*x\n",
    "def derivative(x):\n",
    "    return 2 * x"
   ]
  },
  {
   "cell_type": "code",
   "execution_count": 2,
   "id": "3c15912c",
   "metadata": {},
   "outputs": [
    {
     "data": {
      "image/png": "[encoded data removed]",
      "text/plain": [
       "<Figure size 640x480 with 1 Axes>"
      ]
     },
     "metadata": {},
     "output_type": "display_data"
    }
   ],
   "source": [
    "from functools import partial\n",
    "import matplotlib.pyplot as plt\n",
    "derivative_estimate = partial(difference_quotient, square, h = 0.00001)\n",
    "x = range(-10, 10)\n",
    "plt.title(\"Actual Derivatives vs. Estimate\")\n",
    "plt.plot(x, list(map(derivative, x)), 'r*', label=\"Actual\")\n",
    "plt.plot(x, list(map(derivative_estimate, x)), 'b', label=\"Estimate\")\n",
    "plt.legend(loc=9)\n",
    "plt.show()"
   ]
  },
  {
   "cell_type": "code",
   "execution_count": 3,
   "id": "cd4d0676",
   "metadata": {},
   "outputs": [],
   "source": [
    "def partial_difference_quotient(f, v, i, h):\n",
    "    w = [v_j + (h if j == i else 0) for j, v_j in enumerate(v)]\n",
    "    return (f(w) - f(v)) / h\n",
    "def estimate_gradient(f, v, h=0.00001):\n",
    "    return [partial_difference_quotient(f, v, i, h) for i, _ in enumerate(v)]"
   ]
  },
  {
   "cell_type": "code",
   "execution_count": 4,
   "id": "3ac912b0",
   "metadata": {},
   "outputs": [
    {
     "ename": "NameError",
     "evalue": "name 'distance' is not defined",
     "output_type": "error",
     "traceback": [
      "\u001b[1;31m---------------------------------------------------------------------------\u001b[0m",
      "\u001b[1;31mNameError\u001b[0m                                 Traceback (most recent call last)",
      "Cell \u001b[1;32mIn [4], line 12\u001b[0m\n\u001b[0;32m     10\u001b[0m gradient \u001b[38;5;241m=\u001b[39m sum_of_squares_gradient(v)\n\u001b[0;32m     11\u001b[0m next_v \u001b[38;5;241m=\u001b[39m step(v, gradient, \u001b[38;5;241m-\u001b[39m\u001b[38;5;241m0.01\u001b[39m)\n\u001b[1;32m---> 12\u001b[0m \u001b[38;5;28;01mif\u001b[39;00m \u001b[43mdistance\u001b[49m(next_v, v) \u001b[38;5;241m<\u001b[39m tolerance:\n\u001b[0;32m     13\u001b[0m     \u001b[38;5;28;01mbreak\u001b[39;00m\n\u001b[0;32m     14\u001b[0m v \u001b[38;5;241m=\u001b[39m next_v\n",
      "\u001b[1;31mNameError\u001b[0m: name 'distance' is not defined"
     ]
    }
   ],
   "source": [
    "import random\n",
    "def step(v, direction, step_size):\n",
    "    return [v_i + (step_size * direction_i) for v_i, direction_i in zip(v, direction)]\n",
    "def sum_of_squares_gradient(v):\n",
    "    return [2 * v_i for v_i in v]\n",
    "#pick a random Starting Point\n",
    "v = [random.randint(-10, 10) for i in range(3)]\n",
    "tolerance = 0.0000001\n",
    "while True:\n",
    "    gradient = sum_of_squares_gradient(v)\n",
    "    next_v = step(v, gradient, -0.01)\n",
    "    if distance(next_v, v) < tolerance:\n",
    "        break\n",
    "    v = next_v"
   ]
  },
  {
   "cell_type": "code",
   "execution_count": 1,
   "id": "f402bd60",
   "metadata": {},
   "outputs": [],
   "source": [
    "#Choosing the right step size \n",
    "step_sizes = [100, 10, 1, 0.1, 0.01, 0.001, 0.0001, 0.00001]\n",
    "def safe(f):\n",
    "    def safe_f(*args, **kwargs):\n",
    "        try:\n",
    "            return f(*args, **kwargs)\n",
    "        except:\n",
    "            return float('inf')\n",
    "    return safe_f"
   ]
  },
  {
   "cell_type": "code",
   "execution_count": 2,
   "id": "d6fbe5aa",
   "metadata": {},
   "outputs": [],
   "source": [
    "def minimize_batch(target_fn, gradient_fn, theta_0, tolerance=0.000001):\n",
    "    step_sizes = [100, 10, 1, 0.1, 0.01, 0.001, 0.0001, 0.00001]\n",
    "    theta = theta_0\n",
    "    target_fn = safe(target_fn)\n",
    "    value = target_fn(theta)\n",
    "    while True:\n",
    "        gradient = gradient_fn(theta)\n",
    "        next_thetas = [step(theta, gradient, -step_size) for step_size in step_sizes]\n",
    "        next_theta = min(next_thetas, key = target_fn)\n",
    "        next_value = target_fn(next_theta)\n",
    "        if abs(value - next_value) < tolerance:\n",
    "            return theta\n",
    "        else:\n",
    "            theta, vlaue = next_theta, next_value"
   ]
  },
  {
   "cell_type": "code",
   "execution_count": 3,
   "id": "588f024b",
   "metadata": {},
   "outputs": [],
   "source": [
    "def negate(f):\n",
    "    return lambda *args, **kwargs: -f(*args, **kwargs)\n",
    "def negate_all(f):\n",
    "    return lambda *args, **kwargs: [-y for y in f(*args, **kwargs)]\n",
    "def maximize_batch(target_fn, gradient_fn, theta_0, tolerance=0.000001):\n",
    "    return minimize_batch(negate(target_fn), negate_all(gradient_fn), theta_0, tolerance)"
   ]
  },
  {
   "cell_type": "code",
   "execution_count": 1,
   "id": "c11df5e2",
   "metadata": {},
   "outputs": [],
   "source": [
    "###################################"
   ]
  },
  {
   "cell_type": "code",
   "execution_count": 4,
   "id": "8ec2888a",
   "metadata": {},
   "outputs": [],
   "source": [
    "import sys, re\n",
    "regex = sys.argv[1]\n"
   ]
  },
  {
   "cell_type": "code",
   "execution_count": 12,
   "id": "8d6a7ed3",
   "metadata": {},
   "outputs": [
    {
     "name": "stdout",
     "output_type": "stream",
     "text": [
      "(19.408058669371805, 19.5967413306282)\n",
      "(19.389985370968514, 19.61481462903149)\n",
      "(19.354662134462213, 19.65013786553779)\n",
      "(19.341401296842054, 19.66339870315795)\n"
     ]
    }
   ],
   "source": [
    "#Import Libraries\n",
    "import numpy as np\n",
    "from scipy import stats as st\n",
    "#Define the sample data\n",
    "np.random.seed(0)\n",
    "data = np.random.randint(10, 30, 10000)\n",
    "alphas = [0.90, 0.95, 0.99, 0.995]\n",
    "for alpha in alphas:\n",
    "    print(st.norm.interval(alpha=alpha, loc=np.mean(data), scale=st.sem(data)))"
   ]
  },
  {
   "cell_type": "code",
   "execution_count": null,
   "id": "e86f1451",
   "metadata": {},
   "outputs": [],
   "source": []
  }
 ],
 "metadata": {
  "kernelspec": {
   "display_name": "Python 3 (ipykernel)",
   "language": "python",
   "name": "python3"
  },
  "language_info": {
   "codemirror_mode": {
    "name": "ipython",
    "version": 3
   },
   "file_extension": ".py",
   "mimetype": "text/x-python",
   "name": "python",
   "nbconvert_exporter": "python",
   "pygments_lexer": "ipython3",
   "version": "3.9.12"
  }
 },
 "nbformat": 4,
 "nbformat_minor": 5
}
